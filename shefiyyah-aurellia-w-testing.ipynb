{
  "cells": [
    {
      "cell_type": "code",
      "execution_count": 1,
      "metadata": {
        "id": "CNoXJod_oYDg"
      },
      "outputs": [],
      "source": [
        "import tensorflow as tf\n",
        "import pandas as pd\n",
        "import requests\n",
        "import json\n",
        "import base64\n",
        "import random"
      ]
    },
    {
      "cell_type": "code",
      "execution_count": 2,
      "metadata": {
        "colab": {
          "base_uri": "https://localhost:8080/"
        },
        "id": "xBawDqyS_lXZ",
        "outputId": "192e7517-2641-4419-ea5b-dc81133e383e"
      },
      "outputs": [
        {
          "data": {
            "text/plain": [
              "{'gender': 'Female',\n",
              " 'age': 36.0,\n",
              " 'hypertension': 0,\n",
              " 'heart_disease': 0,\n",
              " 'smoking_history': 'current',\n",
              " 'bmi': 23.45,\n",
              " 'HbA1c_level': 5.0,\n",
              " 'blood_glucose_level': 155}"
            ]
          },
          "execution_count": 2,
          "metadata": {},
          "output_type": "execute_result"
        }
      ],
      "source": [
        "df = pd.read_csv(\"/content/data/diabetes_prediction_dataset.csv\")\n",
        "df.pop(\"diabetes\")\n",
        "\n",
        "columns = df.columns.values\n",
        "rand = random.randint(0, len(columns))\n",
        "\n",
        "features = df.values[rand]\n",
        "\n",
        "inputs = {key: value for key, value in zip(columns, features)}\n",
        "inputs"
      ]
    },
    {
      "cell_type": "code",
      "execution_count": 3,
      "metadata": {
        "id": "3T3f3qxE_2jm"
      },
      "outputs": [],
      "source": [
        "def string_feature(value):\n",
        "    return tf.train.Feature(\n",
        "        bytes_list=tf.train.BytesList(\n",
        "            value=[bytes(value, \"utf-8\")]\n",
        "        ),\n",
        "    )\n",
        "\n",
        "def float_feature(value):\n",
        "    return tf.train.Feature(\n",
        "        float_list=tf.train.FloatList(\n",
        "            value=[value]\n",
        "        ),\n",
        "    )\n",
        "\n",
        "def int_feature(value):\n",
        "    return tf.train.Feature(\n",
        "        int64_list=tf.train.Int64List(\n",
        "            value=[value]\n",
        "        ),\n",
        "    )"
      ]
    },
    {
      "cell_type": "code",
      "execution_count": 4,
      "metadata": {
        "id": "y44Ydm19_5tT"
      },
      "outputs": [],
      "source": [
        "def prepare_json(inputs: dict):\n",
        "    feature_spec = dict()\n",
        "\n",
        "    for keys, values in inputs.items():\n",
        "        if isinstance(values, float):\n",
        "            feature_spec[keys] = float_feature(values)\n",
        "        elif isinstance(values, int):\n",
        "            feature_spec[keys] = int_feature(values)\n",
        "        elif isinstance(values, str):\n",
        "            feature_spec[keys] = string_feature(values)\n",
        "\n",
        "    example = tf.train.Example(\n",
        "        features=tf.train.Features(feature=feature_spec)\n",
        "    ).SerializeToString()\n",
        "\n",
        "    result = [\n",
        "        {\n",
        "            \"examples\": {\n",
        "                \"b64\": base64.b64encode(example).decode()\n",
        "            }\n",
        "        }\n",
        "    ]\n",
        "\n",
        "    return json.dumps({\n",
        "        \"signature_name\": \"serving_default\",\n",
        "        \"instances\": result,\n",
        "    })"
      ]
    },
    {
      "cell_type": "code",
      "execution_count": 5,
      "metadata": {
        "id": "AUb9K1AOAAgc"
      },
      "outputs": [],
      "source": [
        "def make_predictions(inputs):\n",
        "    json_data = prepare_json(inputs)\n",
        "\n",
        "    endpoint = \"https://diabetes-prediction-production.up.railway.app/v1/models/diabetes-model:predict\"\n",
        "    response = requests.post(endpoint, data=json_data)\n",
        "\n",
        "    prediction = response.json()[\"predictions\"][0][0]\n",
        "\n",
        "    if prediction < 0.6:\n",
        "        return \"Tidak terkena Diabetes\"\n",
        "    else:\n",
        "        return \"Terkena Diabetes\""
      ]
    },
    {
      "cell_type": "code",
      "execution_count": 6,
      "metadata": {
        "colab": {
          "base_uri": "https://localhost:8080/",
          "height": 36
        },
        "id": "6MYns26OATcS",
        "outputId": "dfa67430-eb66-42d6-c53f-5a62a2d371e3"
      },
      "outputs": [
        {
          "data": {
            "application/vnd.google.colaboratory.intrinsic+json": {
              "type": "string"
            },
            "text/plain": [
              "'Tidak terkena Diabetes'"
            ]
          },
          "execution_count": 6,
          "metadata": {},
          "output_type": "execute_result"
        }
      ],
      "source": [
        "make_predictions(inputs)"
      ]
    }
  ],
  "metadata": {
    "colab": {
      "provenance": []
    },
    "kernelspec": {
      "display_name": "Python 3",
      "name": "python3"
    },
    "language_info": {
      "name": "python"
    }
  },
  "nbformat": 4,
  "nbformat_minor": 0
}
